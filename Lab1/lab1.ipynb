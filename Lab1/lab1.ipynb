{
 "cells": [
  {
   "cell_type": "markdown",
   "id": "ab0aa92c-20e8-45aa-a1ad-b4769d77c5f3",
   "metadata": {},
   "source": [
    "# Lucrarea de laborator nr. 1\n",
    "\n",
    "&copy; Cristian Cemîrtan, 2024"
   ]
  },
  {
   "cell_type": "markdown",
   "id": "e68ca95f-fc0c-49be-988e-c8867eb3a0e4",
   "metadata": {},
   "source": [
    "## Colectarea datelor\n",
    "\n",
    "1. Accesăm http://sistemulenergetic.ro\n",
    "2. Setăm câmpurile de intrare ca:\n",
    "   - Start: `2022`, `October`, `1`, `00`, `00`;\n",
    "   - End: `2024`, `September`, `30`, `23`, `59`.\n",
    "3. Descărcăm setul de date prin apăsarea butonului `Exportă`;\n",
    "4. Setul de date va fi salvat cu denumirea fișierului `data.csv`."
   ]
  },
  {
   "cell_type": "markdown",
   "id": "e9655c27-e70c-4227-9a8e-a2f7bb98fef2",
   "metadata": {},
   "source": [
    "## Încărcarea datelor\n",
    "\n",
    "Datele vor încărcate din fișierul `data.csv`."
   ]
  },
  {
   "cell_type": "code",
   "execution_count": 1,
   "id": "e5e9048b-5e59-4610-a566-6b438e0ce4b8",
   "metadata": {
    "jupyter": {
     "source_hidden": true
    }
   },
   "outputs": [
    {
     "data": {
      "text/html": [
       "<div>\n",
       "<style scoped>\n",
       "    .dataframe tbody tr th:only-of-type {\n",
       "        vertical-align: middle;\n",
       "    }\n",
       "\n",
       "    .dataframe tbody tr th {\n",
       "        vertical-align: top;\n",
       "    }\n",
       "\n",
       "    .dataframe thead th {\n",
       "        text-align: right;\n",
       "    }\n",
       "</style>\n",
       "<table border=\"1\" class=\"dataframe\">\n",
       "  <thead>\n",
       "    <tr style=\"text-align: right;\">\n",
       "      <th></th>\n",
       "      <th>date</th>\n",
       "      <th>carbune</th>\n",
       "      <th>consum</th>\n",
       "      <th>hidro</th>\n",
       "      <th>hidrocarburi</th>\n",
       "      <th>nuclear</th>\n",
       "      <th>eolian</th>\n",
       "      <th>productie</th>\n",
       "      <th>fotovolt</th>\n",
       "      <th>biomasa</th>\n",
       "      <th>sold</th>\n",
       "    </tr>\n",
       "  </thead>\n",
       "  <tbody>\n",
       "    <tr>\n",
       "      <th>0</th>\n",
       "      <td>2024-09-30 16:29:14</td>\n",
       "      <td>831</td>\n",
       "      <td>6306</td>\n",
       "      <td>1563</td>\n",
       "      <td>863</td>\n",
       "      <td>1308</td>\n",
       "      <td>2588</td>\n",
       "      <td>7474</td>\n",
       "      <td>261</td>\n",
       "      <td>57</td>\n",
       "      <td>-1168</td>\n",
       "    </tr>\n",
       "    <tr>\n",
       "      <th>1</th>\n",
       "      <td>2024-09-30 04:48:21</td>\n",
       "      <td>802</td>\n",
       "      <td>4554</td>\n",
       "      <td>876</td>\n",
       "      <td>889</td>\n",
       "      <td>1368</td>\n",
       "      <td>2466</td>\n",
       "      <td>6449</td>\n",
       "      <td>-4</td>\n",
       "      <td>49</td>\n",
       "      <td>-1894</td>\n",
       "    </tr>\n",
       "    <tr>\n",
       "      <th>2</th>\n",
       "      <td>2024-09-29 15:56:21</td>\n",
       "      <td>764</td>\n",
       "      <td>5503</td>\n",
       "      <td>1062</td>\n",
       "      <td>847</td>\n",
       "      <td>1373</td>\n",
       "      <td>873</td>\n",
       "      <td>5044</td>\n",
       "      <td>57</td>\n",
       "      <td>50</td>\n",
       "      <td>458</td>\n",
       "    </tr>\n",
       "    <tr>\n",
       "      <th>3</th>\n",
       "      <td>2024-09-29 03:55:29</td>\n",
       "      <td>754</td>\n",
       "      <td>4715</td>\n",
       "      <td>1255</td>\n",
       "      <td>890</td>\n",
       "      <td>1366</td>\n",
       "      <td>359</td>\n",
       "      <td>4673</td>\n",
       "      <td>-3</td>\n",
       "      <td>51</td>\n",
       "      <td>42</td>\n",
       "    </tr>\n",
       "    <tr>\n",
       "      <th>4</th>\n",
       "      <td>2024-09-28 14:47:25</td>\n",
       "      <td>724</td>\n",
       "      <td>4847</td>\n",
       "      <td>926</td>\n",
       "      <td>774</td>\n",
       "      <td>1374</td>\n",
       "      <td>418</td>\n",
       "      <td>5226</td>\n",
       "      <td>955</td>\n",
       "      <td>51</td>\n",
       "      <td>-379</td>\n",
       "    </tr>\n",
       "  </tbody>\n",
       "</table>\n",
       "</div>"
      ],
      "text/plain": [
       "                  date  carbune  consum  hidro  hidrocarburi  nuclear  eolian  \\\n",
       "0  2024-09-30 16:29:14      831    6306   1563           863     1308    2588   \n",
       "1  2024-09-30 04:48:21      802    4554    876           889     1368    2466   \n",
       "2  2024-09-29 15:56:21      764    5503   1062           847     1373     873   \n",
       "3  2024-09-29 03:55:29      754    4715   1255           890     1366     359   \n",
       "4  2024-09-28 14:47:25      724    4847    926           774     1374     418   \n",
       "\n",
       "   productie  fotovolt  biomasa  sold  \n",
       "0       7474       261       57 -1168  \n",
       "1       6449        -4       49 -1894  \n",
       "2       5044        57       50   458  \n",
       "3       4673        -3       51    42  \n",
       "4       5226       955       51  -379  "
      ]
     },
     "execution_count": 1,
     "metadata": {},
     "output_type": "execute_result"
    }
   ],
   "source": [
    "import pandas as pd\n",
    "import numpy as np\n",
    "import matplotlib.pyplot as plt\n",
    "import ipywidgets\n",
    "\n",
    "df = pd.read_csv('data.csv')\n",
    "df.head()"
   ]
  },
  {
   "cell_type": "markdown",
   "id": "776a9688-1dea-49fe-8f5d-432f989b6dc5",
   "metadata": {},
   "source": [
    "## Prelucrarea datelor\n",
    "\n",
    "Vom împărți atributul `date` în mai multe atribute:\n",
    "- `year` - anul;\n",
    "- `month` - luna;\n",
    "- `day` - ziua;\n",
    "- `week` - săpămâna;\n",
    "- `hour` - ora;\n",
    "- `day_of_week` - ziua săptămânii."
   ]
  },
  {
   "cell_type": "code",
   "execution_count": 2,
   "id": "6e208043-1aaa-4515-af78-9c1ceaa4c173",
   "metadata": {
    "jupyter": {
     "source_hidden": true
    }
   },
   "outputs": [
    {
     "data": {
      "text/html": [
       "<div>\n",
       "<style scoped>\n",
       "    .dataframe tbody tr th:only-of-type {\n",
       "        vertical-align: middle;\n",
       "    }\n",
       "\n",
       "    .dataframe tbody tr th {\n",
       "        vertical-align: top;\n",
       "    }\n",
       "\n",
       "    .dataframe thead th {\n",
       "        text-align: right;\n",
       "    }\n",
       "</style>\n",
       "<table border=\"1\" class=\"dataframe\">\n",
       "  <thead>\n",
       "    <tr style=\"text-align: right;\">\n",
       "      <th></th>\n",
       "      <th>carbune</th>\n",
       "      <th>consum</th>\n",
       "      <th>hidro</th>\n",
       "      <th>hidrocarburi</th>\n",
       "      <th>nuclear</th>\n",
       "      <th>eolian</th>\n",
       "      <th>productie</th>\n",
       "      <th>fotovolt</th>\n",
       "      <th>biomasa</th>\n",
       "      <th>sold</th>\n",
       "      <th>year</th>\n",
       "      <th>month</th>\n",
       "      <th>day</th>\n",
       "      <th>week</th>\n",
       "      <th>hour</th>\n",
       "      <th>day_of_week</th>\n",
       "    </tr>\n",
       "  </thead>\n",
       "  <tbody>\n",
       "    <tr>\n",
       "      <th>0</th>\n",
       "      <td>831</td>\n",
       "      <td>6306</td>\n",
       "      <td>1563</td>\n",
       "      <td>863</td>\n",
       "      <td>1308</td>\n",
       "      <td>2588</td>\n",
       "      <td>7474</td>\n",
       "      <td>261</td>\n",
       "      <td>57</td>\n",
       "      <td>-1168</td>\n",
       "      <td>2024</td>\n",
       "      <td>9</td>\n",
       "      <td>30</td>\n",
       "      <td>5</td>\n",
       "      <td>16</td>\n",
       "      <td>0</td>\n",
       "    </tr>\n",
       "    <tr>\n",
       "      <th>1</th>\n",
       "      <td>802</td>\n",
       "      <td>4554</td>\n",
       "      <td>876</td>\n",
       "      <td>889</td>\n",
       "      <td>1368</td>\n",
       "      <td>2466</td>\n",
       "      <td>6449</td>\n",
       "      <td>-4</td>\n",
       "      <td>49</td>\n",
       "      <td>-1894</td>\n",
       "      <td>2024</td>\n",
       "      <td>9</td>\n",
       "      <td>30</td>\n",
       "      <td>5</td>\n",
       "      <td>4</td>\n",
       "      <td>0</td>\n",
       "    </tr>\n",
       "    <tr>\n",
       "      <th>2</th>\n",
       "      <td>764</td>\n",
       "      <td>5503</td>\n",
       "      <td>1062</td>\n",
       "      <td>847</td>\n",
       "      <td>1373</td>\n",
       "      <td>873</td>\n",
       "      <td>5044</td>\n",
       "      <td>57</td>\n",
       "      <td>50</td>\n",
       "      <td>458</td>\n",
       "      <td>2024</td>\n",
       "      <td>9</td>\n",
       "      <td>29</td>\n",
       "      <td>5</td>\n",
       "      <td>15</td>\n",
       "      <td>6</td>\n",
       "    </tr>\n",
       "    <tr>\n",
       "      <th>3</th>\n",
       "      <td>754</td>\n",
       "      <td>4715</td>\n",
       "      <td>1255</td>\n",
       "      <td>890</td>\n",
       "      <td>1366</td>\n",
       "      <td>359</td>\n",
       "      <td>4673</td>\n",
       "      <td>-3</td>\n",
       "      <td>51</td>\n",
       "      <td>42</td>\n",
       "      <td>2024</td>\n",
       "      <td>9</td>\n",
       "      <td>29</td>\n",
       "      <td>5</td>\n",
       "      <td>3</td>\n",
       "      <td>6</td>\n",
       "    </tr>\n",
       "    <tr>\n",
       "      <th>4</th>\n",
       "      <td>724</td>\n",
       "      <td>4847</td>\n",
       "      <td>926</td>\n",
       "      <td>774</td>\n",
       "      <td>1374</td>\n",
       "      <td>418</td>\n",
       "      <td>5226</td>\n",
       "      <td>955</td>\n",
       "      <td>51</td>\n",
       "      <td>-379</td>\n",
       "      <td>2024</td>\n",
       "      <td>9</td>\n",
       "      <td>28</td>\n",
       "      <td>4</td>\n",
       "      <td>14</td>\n",
       "      <td>5</td>\n",
       "    </tr>\n",
       "  </tbody>\n",
       "</table>\n",
       "</div>"
      ],
      "text/plain": [
       "   carbune  consum  hidro  hidrocarburi  nuclear  eolian  productie  fotovolt  \\\n",
       "0      831    6306   1563           863     1308    2588       7474       261   \n",
       "1      802    4554    876           889     1368    2466       6449        -4   \n",
       "2      764    5503   1062           847     1373     873       5044        57   \n",
       "3      754    4715   1255           890     1366     359       4673        -3   \n",
       "4      724    4847    926           774     1374     418       5226       955   \n",
       "\n",
       "   biomasa  sold  year  month  day  week  hour  day_of_week  \n",
       "0       57 -1168  2024      9   30     5    16            0  \n",
       "1       49 -1894  2024      9   30     5     4            0  \n",
       "2       50   458  2024      9   29     5    15            6  \n",
       "3       51    42  2024      9   29     5     3            6  \n",
       "4       51  -379  2024      9   28     4    14            5  "
      ]
     },
     "execution_count": 2,
     "metadata": {},
     "output_type": "execute_result"
    }
   ],
   "source": [
    "date = pd.to_datetime(df['date']).dt\n",
    "df = df.drop('date', axis=1)\n",
    "\n",
    "df['year'] = date.year\n",
    "df['month'] = date.month\n",
    "df['day'] = date.day\n",
    "df['week'] = df['day'].map(lambda x: (x - 1) // 7 + 1)\n",
    "df['hour'] = date.hour\n",
    "df['day_of_week'] = date.dayofweek\n",
    "df.head()"
   ]
  },
  {
   "cell_type": "markdown",
   "id": "d7bdd92e-987e-427f-a120-17ac177497fb",
   "metadata": {},
   "source": [
    "Se necesită de inversat ordinea rândurilor, astfel încât să fie crescătoare cronologic."
   ]
  },
  {
   "cell_type": "code",
   "execution_count": 3,
   "id": "1a29920f-98f9-4101-9ae6-65b9b946965c",
   "metadata": {
    "jupyter": {
     "source_hidden": true
    }
   },
   "outputs": [
    {
     "data": {
      "text/html": [
       "<div>\n",
       "<style scoped>\n",
       "    .dataframe tbody tr th:only-of-type {\n",
       "        vertical-align: middle;\n",
       "    }\n",
       "\n",
       "    .dataframe tbody tr th {\n",
       "        vertical-align: top;\n",
       "    }\n",
       "\n",
       "    .dataframe thead th {\n",
       "        text-align: right;\n",
       "    }\n",
       "</style>\n",
       "<table border=\"1\" class=\"dataframe\">\n",
       "  <thead>\n",
       "    <tr style=\"text-align: right;\">\n",
       "      <th></th>\n",
       "      <th>carbune</th>\n",
       "      <th>consum</th>\n",
       "      <th>hidro</th>\n",
       "      <th>hidrocarburi</th>\n",
       "      <th>nuclear</th>\n",
       "      <th>eolian</th>\n",
       "      <th>productie</th>\n",
       "      <th>fotovolt</th>\n",
       "      <th>biomasa</th>\n",
       "      <th>sold</th>\n",
       "      <th>year</th>\n",
       "      <th>month</th>\n",
       "      <th>day</th>\n",
       "      <th>week</th>\n",
       "      <th>hour</th>\n",
       "      <th>day_of_week</th>\n",
       "    </tr>\n",
       "  </thead>\n",
       "  <tbody>\n",
       "    <tr>\n",
       "      <th>0</th>\n",
       "      <td>868</td>\n",
       "      <td>5552</td>\n",
       "      <td>1140</td>\n",
       "      <td>949</td>\n",
       "      <td>1383</td>\n",
       "      <td>99</td>\n",
       "      <td>4982</td>\n",
       "      <td>487</td>\n",
       "      <td>56</td>\n",
       "      <td>570</td>\n",
       "      <td>2022</td>\n",
       "      <td>10</td>\n",
       "      <td>1</td>\n",
       "      <td>1</td>\n",
       "      <td>11</td>\n",
       "      <td>5</td>\n",
       "    </tr>\n",
       "    <tr>\n",
       "      <th>1</th>\n",
       "      <td>896</td>\n",
       "      <td>5153</td>\n",
       "      <td>1155</td>\n",
       "      <td>1162</td>\n",
       "      <td>1380</td>\n",
       "      <td>591</td>\n",
       "      <td>5240</td>\n",
       "      <td>0</td>\n",
       "      <td>56</td>\n",
       "      <td>-87</td>\n",
       "      <td>2022</td>\n",
       "      <td>10</td>\n",
       "      <td>1</td>\n",
       "      <td>1</td>\n",
       "      <td>23</td>\n",
       "      <td>5</td>\n",
       "    </tr>\n",
       "    <tr>\n",
       "      <th>2</th>\n",
       "      <td>844</td>\n",
       "      <td>4842</td>\n",
       "      <td>777</td>\n",
       "      <td>427</td>\n",
       "      <td>1381</td>\n",
       "      <td>1442</td>\n",
       "      <td>5415</td>\n",
       "      <td>490</td>\n",
       "      <td>54</td>\n",
       "      <td>-573</td>\n",
       "      <td>2022</td>\n",
       "      <td>10</td>\n",
       "      <td>2</td>\n",
       "      <td>1</td>\n",
       "      <td>10</td>\n",
       "      <td>6</td>\n",
       "    </tr>\n",
       "    <tr>\n",
       "      <th>3</th>\n",
       "      <td>842</td>\n",
       "      <td>5100</td>\n",
       "      <td>1022</td>\n",
       "      <td>481</td>\n",
       "      <td>1380</td>\n",
       "      <td>1202</td>\n",
       "      <td>4989</td>\n",
       "      <td>0</td>\n",
       "      <td>62</td>\n",
       "      <td>111</td>\n",
       "      <td>2022</td>\n",
       "      <td>10</td>\n",
       "      <td>2</td>\n",
       "      <td>1</td>\n",
       "      <td>22</td>\n",
       "      <td>6</td>\n",
       "    </tr>\n",
       "    <tr>\n",
       "      <th>4</th>\n",
       "      <td>1002</td>\n",
       "      <td>6676</td>\n",
       "      <td>1636</td>\n",
       "      <td>1257</td>\n",
       "      <td>1336</td>\n",
       "      <td>145</td>\n",
       "      <td>5694</td>\n",
       "      <td>253</td>\n",
       "      <td>64</td>\n",
       "      <td>982</td>\n",
       "      <td>2022</td>\n",
       "      <td>10</td>\n",
       "      <td>3</td>\n",
       "      <td>1</td>\n",
       "      <td>10</td>\n",
       "      <td>0</td>\n",
       "    </tr>\n",
       "  </tbody>\n",
       "</table>\n",
       "</div>"
      ],
      "text/plain": [
       "   carbune  consum  hidro  hidrocarburi  nuclear  eolian  productie  fotovolt  \\\n",
       "0      868    5552   1140           949     1383      99       4982       487   \n",
       "1      896    5153   1155          1162     1380     591       5240         0   \n",
       "2      844    4842    777           427     1381    1442       5415       490   \n",
       "3      842    5100   1022           481     1380    1202       4989         0   \n",
       "4     1002    6676   1636          1257     1336     145       5694       253   \n",
       "\n",
       "   biomasa  sold  year  month  day  week  hour  day_of_week  \n",
       "0       56   570  2022     10    1     1    11            5  \n",
       "1       56   -87  2022     10    1     1    23            5  \n",
       "2       54  -573  2022     10    2     1    10            6  \n",
       "3       62   111  2022     10    2     1    22            6  \n",
       "4       64   982  2022     10    3     1    10            0  "
      ]
     },
     "execution_count": 3,
     "metadata": {},
     "output_type": "execute_result"
    }
   ],
   "source": [
    "df = df[::-1].reset_index(drop=True)\n",
    "df.head()"
   ]
  },
  {
   "cell_type": "markdown",
   "id": "d98fff2e-3a5c-48da-91e6-253a24561354",
   "metadata": {},
   "source": [
    "## Diagrame\n",
    "\n",
    "### Crearea diagramei de distribuție pe tipuri de energie\n",
    "\n",
    "Observăm că `hidro` este cel mai distribuit tip de energie, iar `biomasa` este cel mai puțin distribuit."
   ]
  },
  {
   "cell_type": "code",
   "execution_count": 4,
   "id": "c50e9169-c5cf-46eb-af6b-304821cd39e6",
   "metadata": {
    "jupyter": {
     "source_hidden": true
    }
   },
   "outputs": [
    {
     "data": {
      "image/png": "[encoded data removed]",
      "text/plain": [
       "<Figure size 640x480 with 1 Axes>"
      ]
     },
     "metadata": {},
     "output_type": "display_data"
    },
    {
     "data": {
      "image/png": "[encoded data removed]",
      "text/plain": [
       "<Figure size 640x480 with 1 Axes>"
      ]
     },
     "metadata": {},
     "output_type": "display_data"
    }
   ],
   "source": [
    "energy_types = ['nuclear', 'eolian', 'hidro', 'hidrocarburi', 'carbune', 'fotovolt', 'biomasa']\n",
    "df_energy_distribution = df[energy_types]\n",
    "\n",
    "df_energy_distribution.plot(kind='box', flierprops={'markerfacecolor': 'red'})\n",
    "plt.title('Distribuția energiei pe tipuri')\n",
    "plt.show()\n",
    "\n",
    "df_energy_distribution.sum().plot(kind='pie', autopct='%1.2f%%')\n",
    "plt.title('Distribuția energiei pe tipuri')\n",
    "plt.show()"
   ]
  },
  {
   "cell_type": "markdown",
   "id": "2738d715-1b81-416d-91bc-2657d452a0d4",
   "metadata": {},
   "source": [
    "### Crearea diagramei comparative pe luni pentru export/producție de energie\n",
    "\n",
    "Conform site-ului http://sistemulenergetic.ro, valorile negative pentru atributul `sold` înseamnă export.\n",
    "\n",
    "Pentru a realiza această diagramă:\n",
    "  - Au fost extrase valorile negative din coloana `sold`;\n",
    "  - Au fost calculate opusurile lor (înmulțirea cu `-1`);\n",
    "  - Valorile lor, inclusiv cele din coloana `productie`, au fost agregate prin sumă, fiind grupate pe lună."
   ]
  },
  {
   "cell_type": "code",
   "execution_count": 5,
   "id": "f7e301da-d7f7-4376-ab5a-e2c94ca4b828",
   "metadata": {
    "jupyter": {
     "source_hidden": true
    }
   },
   "outputs": [
    {
     "data": {
      "application/vnd.jupyter.widget-view+json": {
       "model_id": "a2e05f7a54ee45169e03762494091144",
       "version_major": 2,
       "version_minor": 0
      },
      "text/plain": [
       "interactive(children=(Dropdown(description='year', options=(2022, 2023, 2024), value=2022), Output()), _dom_cl…"
      ]
     },
     "metadata": {},
     "output_type": "display_data"
    }
   ],
   "source": [
    "years = df['year'].drop_duplicates()\n",
    "\n",
    "@ipywidgets.interact(year=years)\n",
    "def task_1(year):\n",
    "    df_year = df[df['year'] == year].copy()\n",
    "    df_year['export'] = -df_year.loc[df_year['sold'] < 0, 'sold']\n",
    "\n",
    "    df_year = df_year.groupby('month')[['productie', 'export']].sum()\n",
    "    \n",
    "    df_year.plot(kind='bar')\n",
    "    plt.title('Diagrama comparativă pe luni pentru export/producție de energie')\n",
    "    plt.xlabel('Luna')\n",
    "    plt.ylabel('Energie [MW]')\n",
    "    plt.show()"
   ]
  },
  {
   "cell_type": "markdown",
   "id": "8142098f-0d4b-458d-85b0-a878f50dbacd",
   "metadata": {},
   "source": [
    "## Crearea diagramelor ce reflectă valorile de vârf\n",
    "\n",
    "Observăm că:\n",
    "  - `Consumul` depășește `producție`:\n",
    "    - În lunile aprilie - august (5 luni), 2024;\n",
    "    - În lunile august, octombrie și noiembrie. 2023."
   ]
  },
  {
   "cell_type": "code",
   "execution_count": 6,
   "id": "0f6f2822-fbf5-4c6c-bc05-70bea4f763f4",
   "metadata": {
    "jupyter": {
     "source_hidden": true
    }
   },
   "outputs": [
    {
     "data": {
      "application/vnd.jupyter.widget-view+json": {
       "model_id": "1e35705411974554b5f9a65f9d7acefe",
       "version_major": 2,
       "version_minor": 0
      },
      "text/plain": [
       "interactive(children=(Dropdown(description='year', options=(None, 2022, 2023, 2024), value=None), Dropdown(des…"
      ]
     },
     "metadata": {},
     "output_type": "display_data"
    }
   ],
   "source": [
    "months = df['month'].drop_duplicates().sort_values()\n",
    "weeks = df['week'].drop_duplicates().sort_values()\n",
    "days_of_week = df['day_of_week'].drop_duplicates().sort_values()\n",
    "\n",
    "@ipywidgets.interact(year=[None, *years], month=[None, *months], week=[None, *weeks], day_of_week=[None, *days_of_week])\n",
    "def task_2(year, month, week, day_of_week):\n",
    "    if day_of_week is not None:\n",
    "        grouping_col = 'hour'\n",
    "        x_label = 'Ora'\n",
    "        title = 'Valorile de vârf pe ore'\n",
    "    elif week is not None:\n",
    "        grouping_col = 'day_of_week'\n",
    "        x_label = 'Ziua săptămânii'\n",
    "        title = 'Valorile de vârf pe zilele săptămânii'\n",
    "    elif month is not None:\n",
    "        grouping_col = 'week'\n",
    "        x_label = 'Săptămâna'\n",
    "        title = 'Valorile de vârf pe săptămâni'\n",
    "    elif year is not None:\n",
    "        grouping_col = 'month'\n",
    "        x_label = 'Luna'\n",
    "        title = 'Valorile de vârf pe luni'\n",
    "    else:\n",
    "        grouping_col = 'year'\n",
    "        x_label = 'Anul'\n",
    "        title = 'Valorile de vârf pe ani'\n",
    "    \n",
    "    mask = np.repeat(True, df.shape[0])\n",
    "    \n",
    "    if day_of_week is not None:\n",
    "        mask = mask & (df['day_of_week'] == day_of_week)\n",
    "        \n",
    "    if week is not None:\n",
    "        mask = mask & (df['week'] == week)\n",
    "        \n",
    "    if month is not None:\n",
    "        mask = mask & (df['month'] == month)\n",
    "        \n",
    "    if year is not None:\n",
    "        mask = mask & (df['year'] == year)\n",
    "\n",
    "    peak = df[mask].groupby(grouping_col).max()\n",
    "\n",
    "    peak.plot(y=['productie', 'consum'], kind='bar')\n",
    "    plt.title(title)\n",
    "    plt.xlabel(x_label)\n",
    "    plt.show()"
   ]
  },
  {
   "cell_type": "markdown",
   "id": "7cb8bdd7-eaef-4cf2-9cda-0523c71eddd6",
   "metadata": {},
   "source": [
    "### Crearea diagramei comparative de serii temporale pe fiecare tip de energie\n",
    "\n",
    "Observăm că pentru unele tipuri de energie:\n",
    "  - La `nuclear`:\n",
    "    - În anumite intervale de timp se produce circa 50% de energie decât ca de obicei.\n",
    "  - La `hidrocarburi`:\n",
    "    - În 2023, producerea energiei a intrat în declin în luna martie, apoi a început să crească în luna iulie;\n",
    "    - În 2024, declinul a avut loc aproape de luna aprilie, a crescut în luna iunie.\n",
    "  - La `fotovolt`:\n",
    "    - Are loc deseori „spinuri ascuțite” în producerea energiei - crește și coboară la zero în continuu:\n",
    "      - Evident că, nu se produce energie pe timp de noapte (nu este soare).\n",
    "    - Se întâmplă rar că produce foarte puțin sau deloc energie.\n",
    "  - La `eolian`:\n",
    "    - Aceeași soartă ca la `fotovolt`, dar produce mai multă energie pe parcurs;\n",
    "    - Sunt mai puține „spinuri ascuțite”."
   ]
  },
  {
   "cell_type": "code",
   "execution_count": 7,
   "id": "f8db9e9e-69d9-4ea5-bd89-b14c812cb4ab",
   "metadata": {
    "jupyter": {
     "source_hidden": true
    }
   },
   "outputs": [
    {
     "data": {
      "application/vnd.jupyter.widget-view+json": {
       "model_id": "7da086cff20a48acb869ab5136a74fe6",
       "version_major": 2,
       "version_minor": 0
      },
      "text/plain": [
       "interactive(children=(SelectMultiple(description='energy_types', options=('nuclear', 'eolian', 'hidro', 'hidro…"
      ]
     },
     "metadata": {},
     "output_type": "display_data"
    }
   ],
   "source": [
    "days = df['day'].drop_duplicates().sort_values()\n",
    "\n",
    "@ipywidgets.interact(energy_types=ipywidgets.SelectMultiple(options=energy_types), year=[None, *years], month=[None, *months], day=[None, *days])\n",
    "def task_3(energy_types, year, month, day):\n",
    "    if not energy_types:\n",
    "        return\n",
    "\n",
    "    mask = np.repeat(True, df.shape[0])\n",
    "\n",
    "    if year is not None:\n",
    "        mask = mask & (df['year'] == year)\n",
    "        \n",
    "        if month is not None:\n",
    "            mask = mask & (df['month'] == month)\n",
    "            \n",
    "            if day is not None:\n",
    "                mask = mask & (df['day'] == day)\n",
    "                \n",
    "                grouping_col = 'hour'\n",
    "                x_label = 'Ora'\n",
    "                title = 'Serie temporală orară'\n",
    "            else:\n",
    "                grouping_col = 'day'\n",
    "                x_label = 'Ziua'\n",
    "                title = 'Serie temporală zilnică'\n",
    "        else:\n",
    "            grouping_col = 'month'\n",
    "            x_label = 'Luna'\n",
    "            title = 'Serie temporală lunara'\n",
    "    else:\n",
    "        grouping_col = 'year'\n",
    "        x_label = 'Anul'\n",
    "        title = 'Serie temporală anuală' \n",
    "\n",
    "    ticks = df[mask][grouping_col].drop_duplicates()\n",
    "\n",
    "    time_series = df[mask]\n",
    "\n",
    "    time_series.plot(y=list(energy_types))\n",
    "\n",
    "    if grouping_col == 'day':\n",
    "        ticks = ticks[::2]\n",
    "    \n",
    "    plt.xticks(ticks.index, ticks)\n",
    "    \n",
    "    plt.title(title)\n",
    "    plt.xlabel(x_label)\n",
    "    plt.show()"
   ]
  }
 ],
 "metadata": {
  "kernelspec": {
   "display_name": "Python 3 (ipykernel)",
   "language": "python",
   "name": "python3"
  },
  "language_info": {
   "codemirror_mode": {
    "name": "ipython",
    "version": 3
   },
   "file_extension": ".py",
   "mimetype": "text/x-python",
   "name": "python",
   "nbconvert_exporter": "python",
   "pygments_lexer": "ipython3",
   "version": "3.12.6"
  }
 },
 "nbformat": 4,
 "nbformat_minor": 5
}
